{
 "cells": [
  {
   "cell_type": "markdown",
   "metadata": {},
   "source": [
    "## KMeans Clustering\n",
    "\n",
    "Using KMeans clustering with a non-default distance function to cluster\n",
    "\n",
    "### Distance Function\n",
    "\n",
    "Weighted sum of:\n",
    "1. distance between the keywords of the two pieces of text\n",
    "2. distance between the sentiment vectors"
   ]
  },
  {
   "cell_type": "code",
   "execution_count": 24,
   "metadata": {},
   "outputs": [],
   "source": [
    "import pandas as pd\n",
    "import numpy as np\n",
    "# !pip install gensim\n",
    "import gensim"
   ]
  },
  {
   "cell_type": "code",
   "execution_count": 22,
   "metadata": {},
   "outputs": [
    {
     "name": "stdout",
     "output_type": "stream",
     "text": [
      "0.33514148\n"
     ]
    },
    {
     "name": "stderr",
     "output_type": "stream",
     "text": [
      "/Library/Frameworks/Python.framework/Versions/3.7/lib/python3.7/site-packages/gensim/matutils.py:737: FutureWarning: Conversion of the second argument of issubdtype from `int` to `np.signedinteger` is deprecated. In future, it will be treated as `np.int64 == np.dtype(int).type`.\n",
      "  if np.issubdtype(vec.dtype, np.int):\n"
     ]
    }
   ],
   "source": [
    "model = gensim.models.KeyedVectors.load_word2vec_format('../../data/GoogleNews-vectors-negative300.bin', binary=True)"
   ]
  },
  {
   "cell_type": "code",
   "execution_count": 27,
   "metadata": {},
   "outputs": [
    {
     "name": "stderr",
     "output_type": "stream",
     "text": [
      "/Library/Frameworks/Python.framework/Versions/3.7/lib/python3.7/site-packages/gensim/matutils.py:737: FutureWarning: Conversion of the second argument of issubdtype from `int` to `np.signedinteger` is deprecated. In future, it will be treated as `np.int64 == np.dtype(int).type`.\n",
      "  if np.issubdtype(vec.dtype, np.int):\n"
     ]
    },
    {
     "data": {
      "text/plain": [
       "0.3448978"
      ]
     },
     "execution_count": 27,
     "metadata": {},
     "output_type": "execute_result"
    }
   ],
   "source": [
    "model.similarity('definitely', 'horrible')"
   ]
  },
  {
   "cell_type": "code",
   "execution_count": 19,
   "metadata": {},
   "outputs": [
    {
     "data": {
      "text/plain": [
       "1.204390383637714"
      ]
     },
     "execution_count": 19,
     "metadata": {},
     "output_type": "execute_result"
    }
   ],
   "source": [
    "level = \"doclevelsentiments\"\n",
    "topic = \"battlingdepressionnomeds200\"\n",
    "# define outside so we dont have to read in every time\n",
    "all_sentiments = pd.read_csv(\"../../data/raw/sentiments/{}_{}.csv\".format(topic, level))\n",
    "all_keywords = pd.read_csv(\"../../data/raw/keywords/{}_{}.csv\".format(topic, level))\n",
    "    \n",
    "\n",
    "def sentiment(post1, post2):\n",
    "    # look up post's sentiments from data/raw/sentiments\n",
    "    # not sure best way to combine sentence level numbers to create a correct metric for the post,\n",
    "    # so document level sentiment for now\n",
    "    \n",
    "    # returns array of all sentiments (anger, fear, joy, sadness, analytical, confident, tentative- in that order)\n",
    "    post1_sentiment = list(all_sentiments.iloc[post1][3:10])\n",
    "    post2_sentiment = list(all_sentiments.iloc[post2][3:10])\n",
    "    return np.sqrt(sum([(x - y) ** 2 for x, y in zip(post1_sentiment, post2_sentiment)]))\n",
    "    \n",
    "def keyword_distance(post1, post2, keyword_factor=2):\n",
    "    keyword\n",
    "\n",
    "# distance function\n",
    "def distance(post1, post2):\n",
    "    # not sure if euclidean distance between all of the sentiments is the best way\n",
    "    sentiment_distance = sentiment_distance(post1, post2)\n",
    "    keyword_distance = keyword_distance(post1, post2)\n",
    "    return keyword_factor * keyword_distance + sentiment_distance\n",
    "\n",
    "distance(1, 2)"
   ]
  }
 ],
 "metadata": {
  "kernelspec": {
   "display_name": "Python 3",
   "language": "python",
   "name": "python3"
  },
  "language_info": {
   "codemirror_mode": {
    "name": "ipython",
    "version": 3
   },
   "file_extension": ".py",
   "mimetype": "text/x-python",
   "name": "python",
   "nbconvert_exporter": "python",
   "pygments_lexer": "ipython3",
   "version": "3.7.0"
  }
 },
 "nbformat": 4,
 "nbformat_minor": 2
}
