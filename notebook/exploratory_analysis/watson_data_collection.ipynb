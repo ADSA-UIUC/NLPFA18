{
 "cells": [
  {
   "cell_type": "code",
   "execution_count": 3,
   "metadata": {},
   "outputs": [
    {
     "name": "stdout",
     "output_type": "stream",
     "text": [
      "Requirement already up-to-date: watson-developer-cloud>=2.2.6 in /Library/Frameworks/Python.framework/Versions/3.7/lib/python3.7/site-packages (2.2.6)\n",
      "Requirement already satisfied, skipping upgrade: requests<3.0,>=2.0 in /Library/Frameworks/Python.framework/Versions/3.7/lib/python3.7/site-packages (from watson-developer-cloud>=2.2.6) (2.19.1)\n",
      "Requirement already satisfied, skipping upgrade: python_dateutil>=2.5.3 in /Library/Frameworks/Python.framework/Versions/3.7/lib/python3.7/site-packages (from watson-developer-cloud>=2.2.6) (2.7.3)\n",
      "Requirement already satisfied, skipping upgrade: websocket-client==0.47.0 in /Library/Frameworks/Python.framework/Versions/3.7/lib/python3.7/site-packages (from watson-developer-cloud>=2.2.6) (0.47.0)\n",
      "Requirement already satisfied, skipping upgrade: chardet<3.1.0,>=3.0.2 in /Library/Frameworks/Python.framework/Versions/3.7/lib/python3.7/site-packages (from requests<3.0,>=2.0->watson-developer-cloud>=2.2.6) (3.0.4)\n",
      "Requirement already satisfied, skipping upgrade: idna<2.8,>=2.5 in /Library/Frameworks/Python.framework/Versions/3.7/lib/python3.7/site-packages (from requests<3.0,>=2.0->watson-developer-cloud>=2.2.6) (2.7)\n",
      "Requirement already satisfied, skipping upgrade: urllib3<1.24,>=1.21.1 in /Library/Frameworks/Python.framework/Versions/3.7/lib/python3.7/site-packages (from requests<3.0,>=2.0->watson-developer-cloud>=2.2.6) (1.23)\n",
      "Requirement already satisfied, skipping upgrade: certifi>=2017.4.17 in /Library/Frameworks/Python.framework/Versions/3.7/lib/python3.7/site-packages (from requests<3.0,>=2.0->watson-developer-cloud>=2.2.6) (2018.8.24)\n",
      "Requirement already satisfied, skipping upgrade: six>=1.5 in /Library/Frameworks/Python.framework/Versions/3.7/lib/python3.7/site-packages (from python_dateutil>=2.5.3->watson-developer-cloud>=2.2.6) (1.11.0)\n"
     ]
    }
   ],
   "source": [
    "!pip install --upgrade \"watson-developer-cloud>=2.2.6\""
   ]
  },
  {
   "cell_type": "code",
   "execution_count": 4,
   "metadata": {},
   "outputs": [],
   "source": [
    "%run \"apikey.py\"\n",
    "\n",
    "from watson_developer_cloud import ToneAnalyzerV3, WatsonApiException\n",
    "\n",
    "# version can be 2016-05-19 or 2017-09-21\n",
    "# 2016 version returns between 0 and 1, 2017 returns between 0.5 and 1\n",
    "tone_analyzer = ToneAnalyzerV3(\n",
    "    version='2016-05-19',\n",
    "    username=api['ToneAnalyzer']['username'],\n",
    "    password=api['ToneAnalyzer']['password'],\n",
    "    url=api['ToneAnalyzer']['URL']\n",
    ")"
   ]
  },
  {
   "cell_type": "code",
   "execution_count": 5,
   "metadata": {},
   "outputs": [],
   "source": [
    "text = 'Team, I know that times are tough! Product '\\\n",
    "    'sales have been disappointing for the past three '\\\n",
    "    'quarters. We have a competitive product, but we '\\\n",
    "    'need to do a better job of selling it!'"
   ]
  },
  {
   "cell_type": "code",
   "execution_count": 6,
   "metadata": {},
   "outputs": [],
   "source": [
    "# analyze 'text': only 2500 API calls / month!\n",
    "try:\n",
    "    result = tone_analyzer.tone(\n",
    "        {'text': text},\n",
    "        'application/json'\n",
    "    ).get_result()\n",
    "except WatsonApiException as ex:\n",
    "    print(\"Method failed with status code \" + str(ex.code) + \": \" + ex.message)"
   ]
  },
  {
   "cell_type": "code",
   "execution_count": 7,
   "metadata": {},
   "outputs": [],
   "source": [
    "def to_tone_array(tone_arr_json):\n",
    "    \"\"\"\n",
    "    turn [dict({'score': {float}, 'tone_id': {str}, 'tone_name', {str}})] * {1 <= int <= 6}\n",
    "    into [{float}] * 7 where each index is the score of the tone specified in id_to_key\n",
    "    \"\"\"\n",
    "    tone_dict = {}\n",
    "    for tone in tone_arr_json:\n",
    "        tone_dict[tone['tone_name']] = tone['score']\n",
    "    \n",
    "    return list(tone_dict.values())"
   ]
  },
  {
   "cell_type": "code",
   "execution_count": 8,
   "metadata": {},
   "outputs": [],
   "source": [
    "def distance(arr1, arr2):\n",
    "    \"\"\"\n",
    "    find distance between two n-dimensional arrays\n",
    "    \"\"\"\n",
    "    return sum([(arr2[i] - arr1[i]) ** 2 for i in range(len(arr1))]) ** (0.5)"
   ]
  },
  {
   "cell_type": "code",
   "execution_count": 12,
   "metadata": {},
   "outputs": [
    {
     "name": "stdout",
     "output_type": "stream",
     "text": [
      "document-level tones:\n",
      "[0.081788, 0.008589, 0.076676, 0.039805, 0.6165]\n",
      "Team, I know that times are tough!\n",
      "[0.069592, 0.007056, 0.047162, 0.042664, 0.317869]\n",
      "0.30035115572109927\n",
      "Product sales have been disappointing for the past three quarters.\n",
      "[0.10126, 0.025739, 0.119045, 0.018734, 0.771241]\n",
      "0.1638815961815114\n",
      "We have a competitive product, but we need to do a better job of selling it!\n",
      "[0.064169, 0.0379, 0.085963, 0.226295, 0.1997]\n",
      "0.45799189114109873\n"
     ]
    }
   ],
   "source": [
    "doc_tone = result['document_tone']\n",
    "sentence_tones = result['sentences_tone']\n",
    "print('document-level tones:')\n",
    "doc_tones = to_tone_array(doc_tone['tone_categories'][0]['tones'])\n",
    "print(doc_tones)\n",
    "\n",
    "sentences = {}\n",
    "for sentence in sentence_tones:\n",
    "    sentences[sentence['text']] = to_tone_array(sentence['tone_categories'][0]['tones'])\n",
    "\n",
    "# prints distance from each sentence to the document-level analysis: to figure out which sentence is \n",
    "# the most different in terms of tone from the other sentences\n",
    "for text in sentences.keys():\n",
    "    print(text)\n",
    "    print(sentences[text])\n",
    "    print(distance(doc_tones, sentences[text]))\n",
    "    \n",
    "    \n",
    "# maybe try a chi-sq test to see which emotion is statistically different?"
   ]
  },
  {
   "cell_type": "code",
   "execution_count": null,
   "metadata": {},
   "outputs": [],
   "source": []
  },
  {
   "cell_type": "code",
   "execution_count": null,
   "metadata": {},
   "outputs": [],
   "source": []
  }
 ],
 "metadata": {
  "kernelspec": {
   "display_name": "Python 3",
   "language": "python",
   "name": "python3"
  },
  "language_info": {
   "codemirror_mode": {
    "name": "ipython",
    "version": 3
   },
   "file_extension": ".py",
   "mimetype": "text/x-python",
   "name": "python",
   "nbconvert_exporter": "python",
   "pygments_lexer": "ipython3",
   "version": "3.7.0"
  }
 },
 "nbformat": 4,
 "nbformat_minor": 2
}
