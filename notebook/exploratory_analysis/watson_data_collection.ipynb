{
 "cells": [
  {
   "cell_type": "code",
   "execution_count": 3,
   "metadata": {},
   "outputs": [
    {
     "name": "stdout",
     "output_type": "stream",
     "text": [
      "Requirement already up-to-date: watson-developer-cloud>=2.2.6 in /Library/Frameworks/Python.framework/Versions/3.7/lib/python3.7/site-packages (2.2.6)\n",
      "Requirement already satisfied, skipping upgrade: requests<3.0,>=2.0 in /Library/Frameworks/Python.framework/Versions/3.7/lib/python3.7/site-packages (from watson-developer-cloud>=2.2.6) (2.19.1)\n",
      "Requirement already satisfied, skipping upgrade: python_dateutil>=2.5.3 in /Library/Frameworks/Python.framework/Versions/3.7/lib/python3.7/site-packages (from watson-developer-cloud>=2.2.6) (2.7.3)\n",
      "Requirement already satisfied, skipping upgrade: websocket-client==0.47.0 in /Library/Frameworks/Python.framework/Versions/3.7/lib/python3.7/site-packages (from watson-developer-cloud>=2.2.6) (0.47.0)\n",
      "Requirement already satisfied, skipping upgrade: chardet<3.1.0,>=3.0.2 in /Library/Frameworks/Python.framework/Versions/3.7/lib/python3.7/site-packages (from requests<3.0,>=2.0->watson-developer-cloud>=2.2.6) (3.0.4)\n",
      "Requirement already satisfied, skipping upgrade: idna<2.8,>=2.5 in /Library/Frameworks/Python.framework/Versions/3.7/lib/python3.7/site-packages (from requests<3.0,>=2.0->watson-developer-cloud>=2.2.6) (2.7)\n",
      "Requirement already satisfied, skipping upgrade: urllib3<1.24,>=1.21.1 in /Library/Frameworks/Python.framework/Versions/3.7/lib/python3.7/site-packages (from requests<3.0,>=2.0->watson-developer-cloud>=2.2.6) (1.23)\n",
      "Requirement already satisfied, skipping upgrade: certifi>=2017.4.17 in /Library/Frameworks/Python.framework/Versions/3.7/lib/python3.7/site-packages (from requests<3.0,>=2.0->watson-developer-cloud>=2.2.6) (2018.8.24)\n",
      "Requirement already satisfied, skipping upgrade: six>=1.5 in /Library/Frameworks/Python.framework/Versions/3.7/lib/python3.7/site-packages (from python_dateutil>=2.5.3->watson-developer-cloud>=2.2.6) (1.11.0)\n"
     ]
    }
   ],
   "source": [
    "!pip install --upgrade \"watson-developer-cloud>=2.2.6\""
   ]
  },
  {
   "cell_type": "code",
   "execution_count": 47,
   "metadata": {},
   "outputs": [],
   "source": [
    "%run \"../../../apikey.py\"\n",
    "\n",
    "from watson_developer_cloud import ToneAnalyzerV3, WatsonApiException\n",
    "import csv\n",
    "import pandas as pd\n",
    "\n",
    "# version can be 2016-05-19 or 2017-09-21\n",
    "# 2016 version returns between 0 and 1, 2017 returns between 0.5 and 1\n",
    "tone_analyzer = ToneAnalyzerV3(\n",
    "    version='2017-09-21',\n",
    "    username=api['ToneAnalyzer']['username'],\n",
    "    password=api['ToneAnalyzer']['password'],\n",
    "    url=api['ToneAnalyzer']['URL']\n",
    ")"
   ]
  },
  {
   "cell_type": "code",
   "execution_count": 33,
   "metadata": {},
   "outputs": [],
   "source": [
    "text = 'Team, I know that times are tough! Product '\\\n",
    "    'sales have been disappointing for the past three '\\\n",
    "    'quarters. We have a competitive product, but we '\\\n",
    "    'need to do a better job of selling it!'"
   ]
  },
  {
   "cell_type": "code",
   "execution_count": 13,
   "metadata": {},
   "outputs": [],
   "source": [
    "# analyze 'text': only 2500 API calls / month!\n",
    "try:\n",
    "    result = tone_analyzer.tone(\n",
    "        {'text': text},\n",
    "        'application/json'\n",
    "    ).get_result()\n",
    "except WatsonApiException as ex:\n",
    "    print(\"Method failed with status code \" + str(ex.code) + \": \" + ex.message)"
   ]
  },
  {
   "cell_type": "code",
   "execution_count": 22,
   "metadata": {},
   "outputs": [],
   "source": [
    "def to_tone_dict(tone_arr_json):\n",
    "    \"\"\"\n",
    "    turn [dict({'score': {float}, 'tone_id': {str}, 'tone_name', {str}})] * {1 <= int <= 6}\n",
    "    into [{float}] * 7 where each index is the score of the tone specified in id_to_key\n",
    "    \"\"\"\n",
    "    tone_dict = {'Anger': 0, 'Fear': 0, 'Joy': 0, 'Sadness': 0, 'Analytical': 0, 'Confident': 0, 'Tentative': 0}\n",
    "    for tone in tone_arr_json:\n",
    "        tone_dict[tone['tone_name']] = tone['score']\n",
    "    \n",
    "    return tone_dict"
   ]
  },
  {
   "cell_type": "code",
   "execution_count": 15,
   "metadata": {},
   "outputs": [],
   "source": [
    "def distance(arr1, arr2):\n",
    "    \"\"\"\n",
    "    find distance between two n-dimensional arrays\n",
    "    \"\"\"\n",
    "    return sum([(arr2[i] - arr1[i]) ** 2 for i in range(len(arr1))]) ** (0.5)"
   ]
  },
  {
   "cell_type": "code",
   "execution_count": 20,
   "metadata": {},
   "outputs": [],
   "source": [
    "def tone_distance(tones1, tones2):\n",
    "    \"\"\"\n",
    "    find distance between two tone dictionaries\n",
    "    \"\"\"\n",
    "    return distance(list(to_tone_dict(tones1).values()), list(to_tone_dict(tones2).values()))"
   ]
  },
  {
   "cell_type": "code",
   "execution_count": 37,
   "metadata": {},
   "outputs": [
    {
     "name": "stdout",
     "output_type": "stream",
     "text": [
      "text:\n",
      "We have a competitive product, but we need to do a better job of selling it!\n",
      "\n",
      "\n",
      "direct output:\n",
      "{'document_tone': {'tones': [{'score': 0.6165, 'tone_id': 'sadness', 'tone_name': 'Sadness'}, {'score': 0.829888, 'tone_id': 'analytical', 'tone_name': 'Analytical'}]}, 'sentences_tone': [{'sentence_id': 0, 'text': 'Team, I know that times are tough!', 'tones': [{'score': 0.801827, 'tone_id': 'analytical', 'tone_name': 'Analytical'}]}, {'sentence_id': 1, 'text': 'Product sales have been disappointing for the past three quarters.', 'tones': [{'score': 0.771241, 'tone_id': 'sadness', 'tone_name': 'Sadness'}, {'score': 0.687768, 'tone_id': 'analytical', 'tone_name': 'Analytical'}]}, {'sentence_id': 2, 'text': 'We have a competitive product, but we need to do a better job of selling it!', 'tones': [{'score': 0.506763, 'tone_id': 'analytical', 'tone_name': 'Analytical'}]}]}\n",
      "\n",
      "\n",
      "document-level tones:\n",
      "{'Anger': 0, 'Fear': 0, 'Joy': 0, 'Sadness': 0.6165, 'Analytical': 0.829888, 'Confident': 0, 'Tentative': 0}\n",
      "\n",
      "\n",
      "Team, I know that times are tough!\n",
      "{'Anger': 0, 'Fear': 0, 'Joy': 0, 'Sadness': 0, 'Analytical': 0.801827, 'Confident': 0, 'Tentative': 0}\n",
      "distance to doc_tones: 0.6171382905970104\n",
      "Product sales have been disappointing for the past three quarters.\n",
      "{'Anger': 0, 'Fear': 0, 'Joy': 0, 'Sadness': 0.771241, 'Analytical': 0.687768, 'Confident': 0, 'Tentative': 0}\n",
      "distance to doc_tones: 0.2101020501589643\n",
      "We have a competitive product, but we need to do a better job of selling it!\n",
      "{'Anger': 0, 'Fear': 0, 'Joy': 0, 'Sadness': 0, 'Analytical': 0.506763, 'Confident': 0, 'Tentative': 0}\n",
      "distance to doc_tones: 0.696047423402314\n"
     ]
    }
   ],
   "source": [
    "print('text:')\n",
    "print(text)\n",
    "print('\\n')\n",
    "\n",
    "print('direct output:')\n",
    "print(result)\n",
    "print('\\n')\n",
    "\n",
    "doc_tones = result['document_tone']['tones']\n",
    "sentence_tones = result['sentences_tone']\n",
    "print('document-level tones:')\n",
    "print(to_tone_dict(doc_tones))\n",
    "print('\\n')\n",
    "\n",
    "sentences = {}\n",
    "for sentence in sentence_tones:\n",
    "    sentences[sentence['text']] = sentence['tones']\n",
    "\n",
    "# prints distance from each sentence to the document-level analysis: to figure out which sentence is \n",
    "# the most different in terms of tone from the other sentences\n",
    "for text, tones in sentences.items():\n",
    "    print(text)\n",
    "    print(to_tone_dict(tones))\n",
    "    print('distance to doc_tones: ' + str(tone_distance(doc_tones, tones)))"
   ]
  },
  {
   "cell_type": "markdown",
   "metadata": {},
   "source": [
    "### Read in CSVs\n",
    "from /data/raw/posts into /data/raw/sentiments"
   ]
  },
  {
   "cell_type": "code",
   "execution_count": 40,
   "metadata": {},
   "outputs": [],
   "source": [
    "def analyze_tones(text):\n",
    "    try:\n",
    "        result = tone_analyzer.tone(\n",
    "            {'text': text},\n",
    "            'application/json'\n",
    "        ).get_result()\n",
    "        return result\n",
    "    except WatsonApiException as ex:\n",
    "        print(\"Method failed with status code \" + str(ex.code) + \": \" + ex.message)\n",
    "        return None"
   ]
  },
  {
   "cell_type": "code",
   "execution_count": 49,
   "metadata": {},
   "outputs": [],
   "source": [
    "#read in data from data folder\n",
    "input_file = 'battlingdepressionnomeds100'\n",
    "input_filepath = '../../data/raw/posts/' + input_file + '.csv'\n",
    "\n",
    "# analyze data in folder, return analysis into csv\n",
    "sentiments_doclevel = {'post #': [], 'username': [], 'text': [], 'Anger': [], 'Fear': [], 'Joy': [], 'Sadness': [], 'Analytical': [], 'Confident': [], 'Tentative': []}\n",
    "sentiments_sentencelevel = {'post #': [], 'username': [], 'text': [], 'Anger': [], 'Fear': [], 'Joy': [], 'Sadness': [], 'Analytical': [], 'Confident': [], 'Tentative': []}\n",
    "\n",
    "with open(input_filepath, 'r') as csv_file:\n",
    "    csv_reader = csv.DictReader(csv_file)\n",
    "    for row in csv_reader:\n",
    "        result = analyze_tones(row['post content'])\n",
    "        \n",
    "        # document level tones        \n",
    "        sentiments_doclevel['post #'].append(row[''])\n",
    "        sentiments_doclevel['username'].append(row['username'])\n",
    "        sentiments_doclevel['text'].append(row['post content'])\n",
    "        doclevel_tones = to_tone_dict(result['document_tone']['tones'])\n",
    "        for tone in doclevel_tones.keys():\n",
    "            sentiments_doclevel[tone].append(doclevel_tones[tone])\n",
    "        \n",
    "        # if only one sentence- only doc tones, no sentence tone\n",
    "        if 'sentences_tone' in result:\n",
    "            # sentence level tones\n",
    "            for sentence in result['sentences_tone']:\n",
    "                sentiments_sentencelevel['post #'].append(row[''])\n",
    "                sentiments_sentencelevel['username'].append(row['username'])\n",
    "                sentiments_sentencelevel['text'].append(sentence['text'])\n",
    "                sentencelevel_tones = to_tone_dict(sentence['tones'])\n",
    "                for tone in sentencelevel_tones.keys():\n",
    "                    sentiments_sentencelevel[tone].append(sentencelevel_tones[tone])"
   ]
  },
  {
   "cell_type": "code",
   "execution_count": 50,
   "metadata": {},
   "outputs": [],
   "source": [
    "output_file_doclevel = input_file + '_doclevelsentiments'\n",
    "output_filename_doclevel = '../../data/raw/sentiments/' + output_file_doclevel + '.csv'\n",
    "df = pd.DataFrame(sentiments_doclevel)\n",
    "df.to_csv(output_filename_doclevel)\n",
    "\n",
    "output_file_sentencelevel = input_file + '_sentencelevelsentiments'\n",
    "output_filename_sentencelevel = '../../data/raw/sentiments/' + output_file_sentencelevel + '.csv'\n",
    "df = pd.DataFrame(sentiments_sentencelevel)\n",
    "df.to_csv(output_filename_sentencelevel)"
   ]
  }
 ],
 "metadata": {
  "kernelspec": {
   "display_name": "Python 3",
   "language": "python",
   "name": "python3"
  },
  "language_info": {
   "codemirror_mode": {
    "name": "ipython",
    "version": 3
   },
   "file_extension": ".py",
   "mimetype": "text/x-python",
   "name": "python",
   "nbconvert_exporter": "python",
   "pygments_lexer": "ipython3",
   "version": "3.7.0"
  }
 },
 "nbformat": 4,
 "nbformat_minor": 2
}
