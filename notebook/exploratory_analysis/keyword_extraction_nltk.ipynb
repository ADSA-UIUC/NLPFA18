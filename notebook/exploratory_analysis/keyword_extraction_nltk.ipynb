{
 "cells": [
  {
   "cell_type": "code",
   "execution_count": 4,
   "metadata": {},
   "outputs": [],
   "source": [
    "from rake_nltk import Rake"
   ]
  },
  {
   "cell_type": "code",
   "execution_count": 16,
   "metadata": {},
   "outputs": [],
   "source": [
    "text = \"Hey MarkYou say you change moods in the twinkling of an eye, and I would argue that is very rare in bipolar. Have you been formally diagnosed? I am interested that meds don't work at all. Sometimes this is indicative, not of bipolar, but of borderline personality disorder. You could look this up on the site on here. I am NOT diagnosing you, I cannot do that, of course, but the sudden swinging up and down as you feel is much more common in borderline. There is treatment for borderline, a specific therapy called DBT (not CBT). I know very little about it, but others know a lot. It may be an idea to check with your psychiatrist whether you have borderline, or that maybe they could look again at your symptoms. All of this is just a thought, and meds do not work on people with this disorder. There is hope honey. xx\""
   ]
  },
  {
   "cell_type": "code",
   "execution_count": 18,
   "metadata": {},
   "outputs": [
    {
     "data": {
      "text/plain": [
       "[(1.0, 'xx'),\n",
       " (1.0, 'work'),\n",
       " (1.0, 'twinkling'),\n",
       " (1.0, 'treatment'),\n",
       " (1.0, 'thought'),\n",
       " (1.0, 'symptoms'),\n",
       " (1.0, 'sometimes'),\n",
       " (1.0, 'site'),\n",
       " (1.0, 'rare'),\n",
       " (1.0, 'people'),\n",
       " (1.0, 'much'),\n",
       " (1.0, 'meds'),\n",
       " (1.0, 'maybe'),\n",
       " (1.0, 'may'),\n",
       " (1.0, 'lot'),\n",
       " (1.0, 'little'),\n",
       " (1.0, 'know'),\n",
       " (1.0, 'interested'),\n",
       " (1.0, 'indicative'),\n",
       " (1.0, 'idea'),\n",
       " (1.0, 'feel'),\n",
       " (1.0, 'eye'),\n",
       " (1.0, 'disorder'),\n",
       " (1.0, 'diagnosing'),\n",
       " (1.0, 'course'),\n",
       " (1.0, 'common'),\n",
       " (1.0, 'check'),\n",
       " (1.0, 'cannot'),\n",
       " (1.0, 'borderline'),\n",
       " (1.0, 'bipolar')]"
      ]
     },
     "execution_count": 18,
     "metadata": {},
     "output_type": "execute_result"
    }
   ],
   "source": [
    "r = Rake(max_length = 1)\n",
    "r.extract_keywords_from_text(text)\n",
    "r.get_ranked_phrases_with_scores()"
   ]
  }
 ],
 "metadata": {
  "kernelspec": {
   "display_name": "Python 3",
   "language": "python",
   "name": "python3"
  },
  "language_info": {
   "codemirror_mode": {
    "name": "ipython",
    "version": 3
   },
   "file_extension": ".py",
   "mimetype": "text/x-python",
   "name": "python",
   "nbconvert_exporter": "python",
   "pygments_lexer": "ipython3",
   "version": "3.7.0"
  }
 },
 "nbformat": 4,
 "nbformat_minor": 2
}
