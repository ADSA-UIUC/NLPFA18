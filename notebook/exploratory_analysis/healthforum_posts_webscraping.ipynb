{
 "cells": [
  {
   "cell_type": "code",
   "execution_count": 111,
   "metadata": {
    "colab": {},
    "colab_type": "code",
    "id": "mq3HcTAlWq0-"
   },
   "outputs": [],
   "source": [
    "import requests\n",
    "from bs4 import BeautifulSoup\n",
    "import bs4\n",
    "import re\n",
    "import pandas as pd\n",
    "from datetime import datetime"
   ]
  },
  {
   "cell_type": "markdown",
   "metadata": {},
   "source": [
    "### Get data from forum\n",
    "\n",
    "[Forum](https://www.mentalhealthforum.net)"
   ]
  },
  {
   "cell_type": "code",
   "execution_count": 119,
   "metadata": {
    "colab": {},
    "colab_type": "code",
    "id": "BOQM9WMUYY_q"
   },
   "outputs": [],
   "source": [
    "def _mentalHealthForumScraper(threadnum=97215, pagenum=1):\n",
    "    url = 'https://www.mentalhealthforum.net/forum/thread{}-{}.html'.format(threadnum, pagenum)\n",
    "    forum_html = requests.get(url)\n",
    "    forum_json = forum_html.text\n",
    "\n",
    "    forum_soup = BeautifulSoup(forum_json, 'html.parser')\n",
    "  \n",
    "  \n",
    "    users_posts = []\n",
    "    # get each post\n",
    "    for post in forum_soup.find_all(\"li\", \"postbitlegacy postbitim postcontainer old\"):\n",
    "        # find the username of the poster\n",
    "        post_user = post.find(\"div\", {\"class\":\"userinfo\"})\n",
    "        username_html = post_user.find(\"strong\")\n",
    "\n",
    "        # if username is not in <strong></strong> tags then this found users who liked\n",
    "        # the post rather than the poster\n",
    "        if username_html is not None:\n",
    "            username = username_html.text\n",
    "            post_html = post.find(\"blockquote\", {\"class\":\"postcontent restore \"})\n",
    "               \n",
    "            # find date of post\n",
    "            time_str = post.find(\"span\", \"date\").text\n",
    "            time_str = re.sub(u'\\xa0', u' ', time_str)\n",
    "            time_obj = datetime.strptime(time_str, \"%d-%m-%y, %H:%M\")\n",
    "\n",
    "            # quoted someone else\n",
    "            quote_author_html = post_html.find(\"div\", {\"class\":\"bbcode_postedby\"})\n",
    "            if quote_author_html is not None:\n",
    "                quote_author = quote_author_html.find(\"strong\").text\n",
    "            else:\n",
    "                quote_author = None\n",
    "\n",
    "            # post.contents will give me the \"contents\" of the post, which means\n",
    "            # everything without the <div> tag can be thrown away, and everything\n",
    "            # with the link we can keep the text for\n",
    "\n",
    "            # first 2 elements are the '\\n' and the <div></div> tag\n",
    "            post_text = \"\"\n",
    "            for content in post_html.contents:\n",
    "                if type(content) is bs4.element.NavigableString:\n",
    "                    post_text += content\n",
    "                elif content.find(\"div\") is None:\n",
    "                    if 'title' in content:\n",
    "                        post_text += content['title']\n",
    "\n",
    "            # edit out any '\\n' s\n",
    "            post_final = re.sub(\"\\\\n\", \" \", post_text).encode('utf-8', 'replace')\n",
    "\n",
    "            users_posts.append([time_obj, username, post_final, quote_author])\n",
    "      \n",
    "    return users_posts"
   ]
  },
  {
   "cell_type": "code",
   "execution_count": 55,
   "metadata": {
    "colab": {},
    "colab_type": "code",
    "id": "Uu970o9moSq2"
   },
   "outputs": [],
   "source": [
    "def getNPosts(threadnum=97215, n=50):\n",
    "    posts = []\n",
    "    pagenum = 1\n",
    "    while len(posts) < n:\n",
    "        newPosts = _mentalHealthForumScraper(threadnum, pagenum)\n",
    "        for post in newPosts:\n",
    "            posts.append(post)\n",
    "        pagenum += 1\n",
    "    return pd.DataFrame(posts, columns=['date', 'username', 'post content', 'quoted user'])"
   ]
  },
  {
   "cell_type": "code",
   "execution_count": 124,
   "metadata": {
    "colab": {},
    "colab_type": "code",
    "id": "7ECuK3DTpqx8"
   },
   "outputs": [],
   "source": [
    "raw_data_directory = '../../data/raw/posts/'\n",
    "forum_ids = [97215, 186460, 30827, 41312]\n",
    "output_files = ['singlesentence', 'mamistruggling', 'battlingdepressionnomeds', 'lonely']\n",
    "num_posts = 200\n",
    "\n",
    "for forum_id, output_file in zip(forum_ids, output_files):\n",
    "    getNPosts(forum_id, num_posts).to_csv(raw_data_directory + output_file + str(num_posts) + '.csv')"
   ]
  },
  {
   "cell_type": "code",
   "execution_count": null,
   "metadata": {},
   "outputs": [],
   "source": []
  }
 ],
 "metadata": {
  "colab": {
   "collapsed_sections": [],
   "name": "HealthForumPostsWebScraping.ipynb",
   "provenance": [],
   "toc_visible": true,
   "version": "0.3.2"
  },
  "kernelspec": {
   "display_name": "Python 3",
   "language": "python",
   "name": "python3"
  },
  "language_info": {
   "codemirror_mode": {
    "name": "ipython",
    "version": 3
   },
   "file_extension": ".py",
   "mimetype": "text/x-python",
   "name": "python",
   "nbconvert_exporter": "python",
   "pygments_lexer": "ipython3",
   "version": "3.7.0"
  }
 },
 "nbformat": 4,
 "nbformat_minor": 1
}
