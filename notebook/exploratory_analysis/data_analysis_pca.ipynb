{
 "cells": [
  {
   "cell_type": "code",
   "execution_count": 105,
   "metadata": {},
   "outputs": [],
   "source": [
    "# attempt to use scikit-learn's PCA algorithm to plot the 7 dimensional data points from output of tone analyzer\n",
    "from sklearn import decomposition\n",
    "import matplotlib.pyplot as plt\n",
    "import numpy as np\n",
    "import csv\n",
    "import pandas as pd"
   ]
  },
  {
   "cell_type": "code",
   "execution_count": 106,
   "metadata": {},
   "outputs": [
    {
     "name": "stdout",
     "output_type": "stream",
     "text": [
      "[0.35893707 0.2639571 ]\n"
     ]
    }
   ],
   "source": [
    "# import data from data/raw/sentiments\n",
    "input_file = 'battlingdepressionnomeds100_doclevelsentiments'\n",
    "input_filename = '../../data/raw/sentiments/' + input_file + '.csv'\n",
    "\n",
    "data = {'username': [], 'tones': []}\n",
    "with open(input_filename, 'r') as csv_file:\n",
    "    csv_reader = csv.DictReader(csv_file)\n",
    "    for row in csv_reader:\n",
    "        data['username'].append(row['username'])\n",
    "        tones = [float(row[x]) for x in ['Anger', 'Fear', 'Joy', 'Sadness', 'Analytical', 'Confident', 'Tentative']]\n",
    "        data['tones'].append(tones)\n",
    "\n",
    "x = data['tones']\n",
    "y = data['username']\n",
    "pca = decomposition.PCA(n_components=2)\n",
    "df = pd.concat([pd.DataFrame(pca.fit_transform(x), columns=['component 1', 'component 2']), pd.DataFrame({'username': y})], axis=1)\n",
    "print(pca.explained_variance_ratio_)\n",
    "\n",
    "fig = plt.figure(figsize=(8,8))\n",
    "ax = fig.add_subplot(1,1,1)\n",
    "for name in set(y):\n",
    "    color = np.random.rand(3)\n",
    "    x = df['component 1'][df['username'] == name]\n",
    "    y = df['component 2'][df['username'] == name]\n",
    "    ax.scatter(x, y, c=color, label=name)\n",
    "ax.legend(title='username')\n",
    "plt.xlabel('Component 1')\n",
    "plt.ylabel('Component 2')\n",
    "plt.title('PCA of 7-dimensional Tone Analysis Data')\n",
    "\n",
    "# plot exported to processed/figures/\n",
    "output_filename = '../../data/processed/figures/'\n",
    "plt.savefig(output_filename + input_file + '_pca.png')\n",
    "plt.close()"
   ]
  },
  {
   "cell_type": "code",
   "execution_count": 107,
   "metadata": {},
   "outputs": [
    {
     "name": "stdout",
     "output_type": "stream",
     "text": [
      "[0.3085437  0.27809888]\n"
     ]
    }
   ],
   "source": [
    "# repeat everything except for sentence level analyses\n",
    "input_file = 'battlingdepressionnomeds100_sentencelevelsentiments'\n",
    "input_filename = '../../data/raw/sentiments/' + input_file + '.csv'\n",
    "\n",
    "data = {'username': [], 'tones': []}\n",
    "with open(input_filename, 'r') as csv_file:\n",
    "    csv_reader = csv.DictReader(csv_file)\n",
    "    for row in csv_reader:\n",
    "        data['username'].append(row['username'])\n",
    "        tones = [float(row[x]) for x in ['Anger', 'Fear', 'Joy', 'Sadness', 'Analytical', 'Confident', 'Tentative']]\n",
    "        data['tones'].append(tones)\n",
    "\n",
    "x = data['tones']\n",
    "y = data['username']\n",
    "pca = decomposition.PCA(n_components=2)\n",
    "df = pd.concat([pd.DataFrame(pca.fit_transform(x), columns=['component 1', 'component 2']), pd.DataFrame({'username': y})], axis=1)\n",
    "print(pca.explained_variance_ratio_)\n",
    "\n",
    "fig = plt.figure(figsize=(8,8))\n",
    "ax = fig.add_subplot(1,1,1)\n",
    "for name in set(y):\n",
    "    color = np.random.rand(3)\n",
    "    x = df['component 1'][df['username'] == name]\n",
    "    y = df['component 2'][df['username'] == name]\n",
    "    ax.scatter(x, y, c=color, label=name)\n",
    "ax.legend(title='username')\n",
    "plt.xlabel('Component 1')\n",
    "plt.ylabel('Component 2')\n",
    "plt.title('PCA of 7-dimensional Tone Analysis Data')\n",
    "\n",
    "# plot exported to processed/figures/\n",
    "output_filename = '../../data/processed/figures/'\n",
    "plt.savefig(output_filename + input_file + '_pca.png')\n",
    "plt.close()"
   ]
  }
 ],
 "metadata": {
  "kernelspec": {
   "display_name": "Python 3",
   "language": "python",
   "name": "python3"
  },
  "language_info": {
   "codemirror_mode": {
    "name": "ipython",
    "version": 3
   },
   "file_extension": ".py",
   "mimetype": "text/x-python",
   "name": "python",
   "nbconvert_exporter": "python",
   "pygments_lexer": "ipython3",
   "version": "3.7.0"
  }
 },
 "nbformat": 4,
 "nbformat_minor": 2
}
